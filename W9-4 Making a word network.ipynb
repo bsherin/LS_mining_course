{
 "cells": [
  {
   "cell_type": "markdown",
   "metadata": {},
   "source": [
    "# Making networks with words"
   ]
  },
  {
   "cell_type": "markdown",
   "metadata": {},
   "source": [
    "**The idea, in brief**\n",
    "\n",
    "Words are the nodes in the network.\n",
    "\n",
    "If two words appear together in some context that we define – in the same sentence, paragraph, document, etc. – then we draw an edge between the two words"
   ]
  },
  {
   "cell_type": "markdown",
   "metadata": {},
   "source": [
    "## Read in the seasons corpus"
   ]
  },
  {
   "cell_type": "markdown",
   "metadata": {},
   "source": [
    "**Load the corpus**\n",
    "\n",
    "Here I'm loading it with each utterance separate"
   ]
  },
  {
   "cell_type": "code",
   "execution_count": null,
   "metadata": {},
   "outputs": [],
   "source": [
    "from seasons_module import load_seasons_corpus_as_utterances\n",
    "seasons_corpus_with_utterances = load_seasons_corpus_as_utterances()"
   ]
  },
  {
   "cell_type": "code",
   "execution_count": null,
   "metadata": {},
   "outputs": [],
   "source": [
    "all_utterances = []\n",
    "for entry in seasons_corpus_with_utterances.values():\n",
    "    all_utterances += entry[0]"
   ]
  },
  {
   "cell_type": "markdown",
   "metadata": {},
   "source": [
    "## Compile the vocabulary in the usual way."
   ]
  },
  {
   "cell_type": "code",
   "execution_count": null,
   "metadata": {},
   "outputs": [],
   "source": [
    "f = open(\"lists/seasons_stop_list.txt\")\n",
    "stop_list = set(f.read().split(\"\\n\"))"
   ]
  },
  {
   "cell_type": "code",
   "execution_count": null,
   "metadata": {},
   "outputs": [],
   "source": [
    "import nltk\n",
    "word_fdist = nltk.FreqDist()\n",
    "for utterance in all_utterances:\n",
    "    new_utterance = [w for w in utterance if w not in stop_list]\n",
    "    word_fdist.update(new_utterance)"
   ]
  },
  {
   "cell_type": "code",
   "execution_count": null,
   "metadata": {},
   "outputs": [],
   "source": [
    "vocab_size = 25\n",
    "most_common = word_fdist.most_common(25)\n",
    "vocab = [mc[0] for mc in most_common]\n",
    "print(vocab)"
   ]
  },
  {
   "cell_type": "markdown",
   "metadata": {},
   "source": [
    "## Create an adjacency matrix"
   ]
  },
  {
   "cell_type": "markdown",
   "metadata": {},
   "source": [
    "Create a vector for each utterance, then put them together into a termxdocument matrix"
   ]
  },
  {
   "cell_type": "code",
   "execution_count": null,
   "metadata": {},
   "outputs": [],
   "source": [
    "import numpy as np\n",
    "def compute_vector(words, vocab):\n",
    "    new_vector = []\n",
    "    for w in vocab:\n",
    "        tf = words.count(w)\n",
    "        new_vector.append(tf)\n",
    "    return np.array(new_vector)"
   ]
  },
  {
   "cell_type": "code",
   "execution_count": null,
   "metadata": {},
   "outputs": [],
   "source": [
    "utterance_vector_list = []\n",
    "for utterance in all_utterances:\n",
    "    utterance_vector_list.append(compute_vector(utterance, vocab))\n",
    "\n",
    "td_matrix = np.array(utterance_vector_list).transpose()"
   ]
  },
  {
   "cell_type": "markdown",
   "metadata": {},
   "source": [
    "Here's the trick: a termxterm matrix **is** an adjacency matrix for the terms"
   ]
  },
  {
   "cell_type": "code",
   "execution_count": null,
   "metadata": {},
   "outputs": [],
   "source": [
    "tt_matrix = np.dot(td_matrix, td_matrix.transpose())"
   ]
  },
  {
   "cell_type": "code",
   "execution_count": null,
   "metadata": {},
   "outputs": [],
   "source": [
    "import matplotlib\n",
    "import matplotlib.pyplot as plt\n",
    "\n",
    "def matrix_heatmap(mtx, name_list):\n",
    "    fig=plt.figure(figsize=(10, 10), dpi= 80, facecolor='w', edgecolor='k')\n",
    "    n = len(name_list)\n",
    "    x_tick_marks = np.arange(n)\n",
    "    y_tick_marks = np.arange(n)\n",
    "    plt.xticks(x_tick_marks, name_list, fontsize=8, rotation=90)\n",
    "    plt.yticks(y_tick_marks, name_list, fontsize=8)\n",
    "    plt.tick_params(\"x\", top=True, labeltop=True, bottom=False, labelbottom=False)\n",
    "    plt.imshow(mtx, norm=matplotlib.colors.LogNorm(), interpolation='nearest', cmap='YlOrBr')"
   ]
  },
  {
   "cell_type": "code",
   "execution_count": null,
   "metadata": {},
   "outputs": [],
   "source": [
    "matrix_heatmap(tt_matrix, vocab)"
   ]
  },
  {
   "cell_type": "markdown",
   "metadata": {},
   "source": [
    "## Build a graph from the matrix"
   ]
  },
  {
   "cell_type": "markdown",
   "metadata": {},
   "source": [
    "The function in the next cell creates a note for each word in the vocabulary, then it uses the adjacency matrix to draw weighted edges between each node."
   ]
  },
  {
   "cell_type": "code",
   "execution_count": null,
   "metadata": {},
   "outputs": [],
   "source": [
    "%matplotlib inline\n",
    "import networkx as nx\n",
    "import matplotlib.pyplot as plt\n",
    "\n",
    "def build_weighted_graph_from_Aij(am, vocab):\n",
    "    g = nx.Graph()\n",
    "    for w in vocab:\n",
    "        g.add_node(w)\n",
    "    dim = len(am)\n",
    "    for r in range(dim):\n",
    "        for c in range(dim):\n",
    "            if r != c and am[r][c] != 0:\n",
    "                g.add_weighted_edges_from([(vocab[r], vocab[c], am[r][c])])\n",
    "    return g"
   ]
  },
  {
   "cell_type": "code",
   "execution_count": null,
   "metadata": {},
   "outputs": [],
   "source": [
    "G = build_weighted_graph_from_Aij(tt_matrix, vocab)"
   ]
  },
  {
   "cell_type": "code",
   "execution_count": null,
   "metadata": {},
   "outputs": [],
   "source": [
    "weights = [G[u][v]['weight'] / 5 for u, v in G.edges()]"
   ]
  },
  {
   "cell_type": "code",
   "execution_count": null,
   "metadata": {},
   "outputs": [],
   "source": [
    "pos = nx.spring_layout(G, k=.6)\n",
    "plt.figure(figsize=(30, 30))\n",
    "plt.axis('off')\n",
    "nx.draw_networkx(G, pos=pos, width=weights, alpha = 1, font_size = 20, node_size = 500)"
   ]
  },
  {
   "cell_type": "markdown",
   "metadata": {},
   "source": [
    "## Create a subgraph that only contains edges with a certain weight and above"
   ]
  },
  {
   "cell_type": "code",
   "execution_count": null,
   "metadata": {},
   "outputs": [],
   "source": [
    "edges_to_keep = []\n",
    "for e in G.edges:\n",
    "    if G.edges[e[0], e[1]][\"weight\"] > 20:\n",
    "        edges_to_keep.append(e)\n",
    "gs = G.edge_subgraph(edges_to_keep)\n",
    "weights = [gs[u][v]['weight'] / 5 for u, v in gs.edges()]"
   ]
  },
  {
   "cell_type": "code",
   "execution_count": null,
   "metadata": {},
   "outputs": [],
   "source": [
    "pos = nx.spring_layout(gs, k=.6)\n",
    "plt.figure(figsize=(30, 30))\n",
    "plt.axis('off')\n",
    "nx.draw_networkx(gs, pos=pos, width=weights, alpha=.5, font_size = 30, node_size = 500)"
   ]
  },
  {
   "cell_type": "code",
   "execution_count": null,
   "metadata": {},
   "outputs": [],
   "source": []
  }
 ],
 "metadata": {
  "kernelspec": {
   "display_name": "Python 3",
   "language": "python",
   "name": "python3"
  },
  "language_info": {
   "codemirror_mode": {
    "name": "ipython",
    "version": 3
   },
   "file_extension": ".py",
   "mimetype": "text/x-python",
   "name": "python",
   "nbconvert_exporter": "python",
   "pygments_lexer": "ipython3",
   "version": "3.6.1"
  },
  "toc": {
   "base_numbering": 1,
   "nav_menu": {},
   "number_sections": true,
   "sideBar": true,
   "skip_h1_title": false,
   "title_cell": "Table of Contents",
   "title_sidebar": "Contents",
   "toc_cell": false,
   "toc_position": {},
   "toc_section_display": true,
   "toc_window_display": true
  }
 },
 "nbformat": 4,
 "nbformat_minor": 2
}
