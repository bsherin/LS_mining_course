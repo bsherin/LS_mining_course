{
 "cells": [
  {
   "cell_type": "markdown",
   "metadata": {},
   "source": [
    "We'll often want this magical line at the start of our notebooks.\n",
    "It makes plots show up right in the notebook. We might as well get used to it."
   ]
  },
  {
   "cell_type": "code",
   "execution_count": 1,
   "metadata": {},
   "outputs": [],
   "source": [
    "%matplotlib inline"
   ]
  },
  {
   "cell_type": "markdown",
   "metadata": {},
   "source": [
    "# Working with Text Files"
   ]
  },
  {
   "cell_type": "markdown",
   "metadata": {},
   "source": [
    "We can use these two lines to read a text file.\n",
    "The first line creates a file object that points to the file\n",
    "The second line reads in the contents of that file and assigns it\n",
    "to a variable named `genesis_raw`."
   ]
  },
  {
   "cell_type": "code",
   "execution_count": 23,
   "metadata": {},
   "outputs": [],
   "source": [
    "myfile = open('corpora/genesis.txt')\n",
    "genesis_raw = myfile.read()"
   ]
  },
  {
   "cell_type": "markdown",
   "metadata": {},
   "source": [
    "`genesis_raw` will be a string with every character in genesis. \n",
    "Let's see how many characters it is:"
   ]
  },
  {
   "cell_type": "code",
   "execution_count": 7,
   "metadata": {},
   "outputs": [
    {
     "data": {
      "text/plain": [
       "195515"
      ]
     },
     "execution_count": 7,
     "metadata": {},
     "output_type": "execute_result"
    }
   ],
   "source": [
    "len(genesis_raw)"
   ]
  },
  {
   "cell_type": "markdown",
   "metadata": {},
   "source": [
    "We can display the first 100 characters:"
   ]
  },
  {
   "cell_type": "code",
   "execution_count": 8,
   "metadata": {},
   "outputs": [
    {
     "data": {
      "text/plain": [
       "'In the beginning God created the heaven and the earth.\\nAnd the earth was without form, and void; and'"
      ]
     },
     "execution_count": 8,
     "metadata": {},
     "output_type": "execute_result"
    }
   ],
   "source": [
    "genesis_raw[:100]"
   ]
  },
  {
   "cell_type": "markdown",
   "metadata": {},
   "source": [
    "Now we want to split this long string into a list of words.\n",
    "We can use the the `split` method that we encountered earlier"
   ]
  },
  {
   "cell_type": "code",
   "execution_count": 25,
   "metadata": {},
   "outputs": [],
   "source": [
    "genesis_words = genesis_raw.split(' ')"
   ]
  },
  {
   "cell_type": "markdown",
   "metadata": {},
   "source": [
    "We can see how long it is in words, and print the first 100 words."
   ]
  },
  {
   "cell_type": "code",
   "execution_count": 16,
   "metadata": {},
   "outputs": [
    {
     "name": "stdout",
     "output_type": "stream",
     "text": [
      "34326\n",
      "['In', 'the', 'beginning', 'God', 'created', 'the', 'heaven', 'and', 'the', 'earth.\\nAnd', 'the', 'earth', 'was', 'without', 'form,', 'and', 'void;', 'and', 'darkness', 'was\\nupon', 'the', 'face', 'of', 'the', 'deep.', 'And', 'the', 'Spirit', 'of', 'God', 'moved', 'upon\\nthe', 'face', 'of', 'the', 'waters.\\nAnd', 'God', 'said,', 'Let', 'there', 'be', 'light:', 'and', 'there', 'was', 'light.\\nAnd', 'God', 'saw', 'the', 'light,', 'that', 'it', 'was', 'good:', 'and', 'God', 'divided', 'the\\nlight', 'from', 'the', 'darkness.\\nAnd', 'God', 'called', 'the', 'light', 'Day,', 'and', 'the', 'darkness', 'he', 'called\\nNight.', 'And', 'the', 'evening', 'and', 'the', 'morning', 'were', 'the', 'first', 'day.\\nAnd', 'God', 'said,', 'Let', 'there', 'be', 'a', 'firmament', 'in', 'the', 'midst', 'of', 'the\\nwaters,', 'and', 'let', 'it', 'divide', 'the', 'waters', 'from']\n"
     ]
    }
   ],
   "source": [
    "print(len(genesis_words))\n",
    "print(genesis_words[:100])"
   ]
  },
  {
   "cell_type": "markdown",
   "metadata": {},
   "source": [
    "Notice that this doesn't work perfectly. There are some words that are stuck together as a single token in our list. For example, 'earth.\\nAnd' is just one token. If we decided to count how many times the word \"earth\" appeared, this instance wouldn't be counted.\n",
    "\n",
    "(`\\n` represents a newline character.)\n",
    "\n",
    "The moral is that splitting a string into separate words can be tricky. "
   ]
  },
  {
   "cell_type": "markdown",
   "metadata": {},
   "source": [
    "## Corpus reading with nltk\n",
    "[www.nltk.org/howto/corpus.html](http://www.nltk.org/howto/corpus.html)"
   ]
  },
  {
   "cell_type": "markdown",
   "metadata": {},
   "source": [
    "To sidestep the above problem, for the moment, we will use the Natural Language Toolkit (nltk). It is one of several libraries that we will be using.\n",
    "\n",
    "To make use of a library we have to first import it:"
   ]
  },
  {
   "cell_type": "code",
   "execution_count": 2,
   "metadata": {},
   "outputs": [],
   "source": [
    "import nltk"
   ]
  },
  {
   "cell_type": "markdown",
   "metadata": {},
   "source": [
    "nltk has some relatively some relatively magic commands that will import some text files and do a bunch of processing for us. For example, it will automatically split the text files into separate words, and do a decent job of it.\n",
    "\n",
    "Normally, we won't use these magic commands, because it's too hard to tell what they are doing. But for the purposes of illustration we'll use them here. Don't worry too much about the details. Just understand that the result is that it gives us a list of all of the words in genesis, now properly divided."
   ]
  },
  {
   "cell_type": "code",
   "execution_count": 21,
   "metadata": {},
   "outputs": [],
   "source": [
    "mygenesis = nltk.corpus.PlaintextCorpusReader(\"corpora\", 'genesis\\.txt')  # The first argument here is the folder containing the file. \n",
    "genesis_words = mygenesis.words()"
   ]
  },
  {
   "cell_type": "code",
   "execution_count": 22,
   "metadata": {},
   "outputs": [
    {
     "name": "stdout",
     "output_type": "stream",
     "text": [
      "['In', 'the', 'beginning', 'God', 'created', 'the', 'heaven', 'and', 'the', 'earth', '.', 'And', 'the', 'earth', 'was', 'without', 'form', ',', 'and', 'void', ';', 'and', 'darkness', 'was', 'upon', 'the', 'face', 'of', 'the', 'deep', '.', 'And', 'the', 'Spirit', 'of', 'God', 'moved', 'upon', 'the', 'face', 'of', 'the', 'waters', '.', 'And', 'God', 'said', ',', 'Let', 'there', 'be', 'light', ':', 'and', 'there', 'was', 'light', '.', 'And', 'God', 'saw', 'the', 'light', ',', 'that', 'it', 'was', 'good', ':', 'and', 'God', 'divided', 'the', 'light', 'from', 'the', 'darkness', '.', 'And', 'God', 'called', 'the', 'light', 'Day', ',', 'and', 'the', 'darkness', 'he', 'called', 'Night', '.', 'And', 'the', 'evening', 'and', 'the', 'morning', 'were', 'the']\n"
     ]
    }
   ],
   "source": [
    "print(genesis_words[:100])"
   ]
  },
  {
   "cell_type": "markdown",
   "metadata": {},
   "source": [
    "### Some simple explorations"
   ]
  },
  {
   "cell_type": "markdown",
   "metadata": {},
   "source": [
    "Finally, here's a taste of where things get interesting."
   ]
  },
  {
   "cell_type": "code",
   "execution_count": 4,
   "metadata": {},
   "outputs": [
    {
     "data": {
      "image/png": "[encoded data removed]",
      "text/plain": [
       "<Figure size 432x288 with 1 Axes>"
      ]
     },
     "metadata": {
      "needs_background": "light"
     },
     "output_type": "display_data"
    }
   ],
   "source": [
    "from nltk.draw import dispersion_plot\n",
    "dispersion_plot(genesis_words, [\"Adam\", \"Noah\"])"
   ]
  },
  {
   "cell_type": "code",
   "execution_count": 26,
   "metadata": {},
   "outputs": [
    {
     "name": "stdout",
     "output_type": "stream",
     "text": [
      "Displaying 18 of 18 matches:\n",
      "wl of the air ; and brought them unto Adam to see what he would call th and what\n",
      " what he would call th and whatsoever Adam called every living creature , that w\n",
      "ure , that was the name thereof . And Adam gave names to all cattle , and to the\n",
      "to every beast of the field ; but for Adam there was not found an help meet for \n",
      " God caused a deep sleep to fall upon Adam , and he sle and he took one of his r\n",
      " , and brought her unto the man . And Adam said , This is now bone of my bones ,\n",
      "n the garden in the cool of the d and Adam and his wife hid themselves from the \n",
      "garden . And the LORD God called unto Adam , and said unto him , Where art thou \n",
      "nd he shall rule over thee . And unto Adam he said , Because thou hast hearkened\n",
      "and unto dust shalt thou return . And Adam called his wife ' s name Eve ; becaus\n",
      "e was the mother of all living . Unto Adam also and to his wife did the LORD God\n",
      "eep the way of the tree of life . And Adam knew Eve his wife ; and she conceived\n",
      "ly Lamech seventy and sevenfold . And Adam knew his wife again ; and she bare a \n",
      "his is the book of the generations of Adam . In the day that God created man , i\n",
      " blessed them , and called their name Adam , in the day when they were created .\n",
      " the day when they were created . And Adam lived an hundred and thirty years , a\n",
      "nd called his name Se And the days of Adam after he had begotten Seth were eight\n",
      "and daughters : And all the days that Adam lived were nine hundred and thirty ye\n"
     ]
    }
   ],
   "source": [
    "from nltk.text import ConcordanceIndex\n",
    "ci = ConcordanceIndex(mygenesis.words())\n",
    "ci.print_concordance(\"Adam\", width=80, lines=25)"
   ]
  },
  {
   "cell_type": "code",
   "execution_count": null,
   "metadata": {},
   "outputs": [],
   "source": [
    "c = nltk.corpus.PlaintextCorpusReader(\"corpora/gutenberg\", '.*\\.txt')\n",
    "print(c.fileids())"
   ]
  },
  {
   "cell_type": "code",
   "execution_count": null,
   "metadata": {},
   "outputs": [],
   "source": [
    "c.words(fileids=[\"austen-emma.txt\"])"
   ]
  },
  {
   "cell_type": "code",
   "execution_count": null,
   "metadata": {},
   "outputs": [],
   "source": []
  }
 ],
 "metadata": {
  "kernelspec": {
   "display_name": "Python 3",
   "language": "python",
   "name": "python3"
  },
  "language_info": {
   "codemirror_mode": {
    "name": "ipython",
    "version": 3
   },
   "file_extension": ".py",
   "mimetype": "text/x-python",
   "name": "python",
   "nbconvert_exporter": "python",
   "pygments_lexer": "ipython3",
   "version": "3.6.1"
  },
  "toc": {
   "base_numbering": 1,
   "nav_menu": {},
   "number_sections": true,
   "sideBar": true,
   "skip_h1_title": false,
   "title_cell": "Table of Contents",
   "title_sidebar": "Contents",
   "toc_cell": false,
   "toc_position": {},
   "toc_section_display": true,
   "toc_window_display": false
  }
 },
 "nbformat": 4,
 "nbformat_minor": 2
}
