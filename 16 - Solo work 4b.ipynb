{
 "cells": [
  {
   "cell_type": "markdown",
   "metadata": {},
   "source": [
    "# Solo Work 4b"
   ]
  },
  {
   "cell_type": "markdown",
   "metadata": {},
   "source": [
    "## The Tekno Corpus"
   ]
  },
  {
   "cell_type": "markdown",
   "metadata": {},
   "source": [
    "Here's a real world corpus for you to play with.\n",
    "\n",
    "A researcher named Nikki Kersting had math teachers watch classroom videos online and answer short questions about them. These were then scored, by hand, by researchers. Each response received a score of 0, 1, or 2 along four dimensions:\n",
    "\n",
    "1. Degree to which response analyzed the mathematical content (CODEMC)\n",
    "2. Degree to which response analyzed student thinking (CODEST)\n",
    "3. Degree to which response included suggestions for improving teaching episode (CODESII)\n",
    "4. Overall quality of the response, descriptive account versus in in-depth analysis (CODELI)\n",
    "\n",
    "The videos were specific to subject matter and grade. The responses I'm giving you are all given for videos of classroom sessions that had to do with fractions.\n",
    "\n",
    "Teachers were given an overall score, and these scores were proven to correlate highly with independent measures of their teaching, as well as the learning of their students.\n",
    "\n",
    "The question is: Can you automate the scoring of responses?"
   ]
  },
  {
   "cell_type": "markdown",
   "metadata": {},
   "source": [
    "### Getting the data"
   ]
  },
  {
   "cell_type": "markdown",
   "metadata": {},
   "source": [
    "You can take a look at the data if you want. It's in the corpora folder in a file called `tekno_flat`.\n",
    "\n",
    "The following lines read in the corpus for you. The result is a list of dictionaries"
   ]
  },
  {
   "cell_type": "code",
   "execution_count": null,
   "metadata": {
    "collapsed": true
   },
   "outputs": [],
   "source": [
    "import csv\n",
    "csvfile = open('corpora/tekno_flat.csv')\n",
    "tekno_reader = csv.DictReader(csvfile)\n",
    "data_list = []\n",
    "for row in tekno_reader:\n",
    "    data_list.append(row)"
   ]
  },
  {
   "cell_type": "markdown",
   "metadata": {},
   "source": [
    "Here are some examples of you can work work with the data, once it's read in.\n",
    "Let's get the first item in the list of data"
   ]
  },
  {
   "cell_type": "code",
   "execution_count": null,
   "metadata": {},
   "outputs": [],
   "source": [
    "datum = data_list[0]"
   ]
  },
  {
   "cell_type": "markdown",
   "metadata": {},
   "source": [
    "This gives us the text of that response:"
   ]
  },
  {
   "cell_type": "code",
   "execution_count": null,
   "metadata": {},
   "outputs": [],
   "source": [
    "datum[\"TEXT\"]"
   ]
  },
  {
   "cell_type": "markdown",
   "metadata": {},
   "source": [
    "We can also get each of the codes for this response that were assigned by human scoreres:"
   ]
  },
  {
   "cell_type": "code",
   "execution_count": null,
   "metadata": {},
   "outputs": [],
   "source": [
    "print(datum[\"CODEMC\"])\n",
    "print(datum[\"CODEST\"])\n",
    "print(datum[\"CODESII\"])\n",
    "print(datum[\"CODELI\"])"
   ]
  },
  {
   "cell_type": "markdown",
   "metadata": {},
   "source": [
    "There were multiple video clips (I think about 12) that teachers responded to. You can see which clip a teacher was responding to like this:"
   ]
  },
  {
   "cell_type": "code",
   "execution_count": null,
   "metadata": {},
   "outputs": [],
   "source": [
    "print(datum[\"CLIP\"])"
   ]
  },
  {
   "cell_type": "markdown",
   "metadata": {},
   "source": [
    "### You can take it from here\n",
    "\n",
    "See if it's possible to train a classifier that performs decently. Some things to consider:\n",
    "\n",
    "* You can follow our work with the pizza corpus above. However, your starting with data in a slightly different format.\n",
    "* The responses given by teachers are somewhat specific to the clips they were watching. For this reason, it's easier to train a separate classifier for each clip. If you want, you can restrict your focus to one of the clips."
   ]
  },
  {
   "cell_type": "code",
   "execution_count": null,
   "metadata": {},
   "outputs": [],
   "source": []
  }
 ],
 "metadata": {
  "kernelspec": {
   "display_name": "Python 3",
   "language": "python",
   "name": "python3"
  },
  "language_info": {
   "codemirror_mode": {
    "name": "ipython",
    "version": 3
   },
   "file_extension": ".py",
   "mimetype": "text/x-python",
   "name": "python",
   "nbconvert_exporter": "python",
   "pygments_lexer": "ipython3",
   "version": "3.6.1"
  }
 },
 "nbformat": 4,
 "nbformat_minor": 2
}
