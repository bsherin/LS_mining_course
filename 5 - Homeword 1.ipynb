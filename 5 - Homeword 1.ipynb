{
 "cells": [
  {
   "cell_type": "markdown",
   "metadata": {},
   "source": [
    "# Homework 1\n",
    "\n",
    "The goal here is for you to start to get comfortable using the tools,\n",
    "and to also spend some type staring a python code. \n",
    "\n",
    "Don't be afraid to spend a lot of time staring at specific snippets of code and trying to understand them."
   ]
  },
  {
   "cell_type": "markdown",
   "metadata": {},
   "source": [
    "First, do your standard imports"
   ]
  },
  {
   "cell_type": "code",
   "execution_count": null,
   "metadata": {},
   "outputs": [],
   "source": [
    "%matplotlib inline\n",
    "import matplotlib\n",
    "import nltk"
   ]
  },
  {
   "cell_type": "markdown",
   "metadata": {},
   "source": [
    "## Do some of your own counting"
   ]
  },
  {
   "cell_type": "markdown",
   "metadata": {},
   "source": [
    "### Look back at the **Counting Stuff** notebook.\n",
    "\n",
    "Run through the cells in that notebook, to make sure that you've got everything working, and that you get how to use the notebook. Feel free to take your time. Tweak cells and mess around if you like."
   ]
  },
  {
   "cell_type": "markdown",
   "metadata": {},
   "source": [
    "### Repeat some analyses with a different data file.\n",
    "\n",
    "The `corpora` folder has another folder inside it called `gutenberg`, which has the text of some additional books. Pick one of those books to work with.\n",
    "\n",
    "Using `nltk`, read in your chosen book. Note that there is something small to figure out here, since your book is inside another folder inside `corpora`. \n",
    "\n",
    "Don't just modify the Counting Stuff notebook. Add cells below and copy stuff over, for practice."
   ]
  },
  {
   "cell_type": "code",
   "execution_count": null,
   "metadata": {},
   "outputs": [],
   "source": []
  },
  {
   "cell_type": "markdown",
   "metadata": {},
   "source": [
    "### Find the lexical diversity of your new text\n",
    "\n",
    "Again, add cells below as needed and copy stuff over."
   ]
  },
  {
   "cell_type": "code",
   "execution_count": null,
   "metadata": {},
   "outputs": [],
   "source": []
  },
  {
   "cell_type": "markdown",
   "metadata": {},
   "source": [
    "If you like, explore lexical diversity a bit. Are there any interesting differences in lexical diversity\n",
    "across the texts in the gutenberg folder?"
   ]
  },
  {
   "cell_type": "code",
   "execution_count": null,
   "metadata": {},
   "outputs": [],
   "source": []
  },
  {
   "cell_type": "markdown",
   "metadata": {},
   "source": [
    "### Create Frequency distributions"
   ]
  },
  {
   "cell_type": "markdown",
   "metadata": {},
   "source": [
    "Use `nltk` to create a frequency distribution for your chosen text"
   ]
  },
  {
   "cell_type": "code",
   "execution_count": null,
   "metadata": {},
   "outputs": [],
   "source": []
  },
  {
   "cell_type": "markdown",
   "metadata": {},
   "source": [
    "Make plots of the frequency distribution"
   ]
  },
  {
   "cell_type": "code",
   "execution_count": null,
   "metadata": {},
   "outputs": [],
   "source": []
  },
  {
   "cell_type": "markdown",
   "metadata": {},
   "source": [
    "## Learn a little more python"
   ]
  },
  {
   "cell_type": "markdown",
   "metadata": {},
   "source": [
    "There are a lot of resources online for learning about python.\n",
    "If there's something you don't know how to do, go ahead and google it.\n",
    "\n",
    "One place to look is at the main python site [python.org](https://python.org). There's a very quick tutorial there at: [tutorial](https://docs.python.org/3.6/tutorial/index.html). It doesn't explain things in much detail. But you can use it as a reference.\n",
    "\n",
    "Here are some tidbits adapted from that tutorial. This first example, computes some of the fibonacci sequence"
   ]
  },
  {
   "cell_type": "code",
   "execution_count": null,
   "metadata": {},
   "outputs": [],
   "source": [
    "a = 0\n",
    "b = 1\n",
    "while b < 10:\n",
    "    print(b)\n",
    "    a = b\n",
    "    b = a + b"
   ]
  },
  {
   "cell_type": "markdown",
   "metadata": {},
   "source": [
    "Some things to note here:\n",
    "\n",
    "* The while loop executes as long as the condition (here: b < 10) remains true. The standard comparison operators : < (less than), > (greater than), == (equal to), <= (less than or equal to), >= (greater than or equal to) and != (not equal to).\n",
    "\n",
    "* The body of the loop is indented: indentation is Python’s way of grouping statements. "
   ]
  },
  {
   "cell_type": "markdown",
   "metadata": {},
   "source": [
    "Here's a couple of additional useful tidits.\n",
    "\n",
    "Here's how you do an `if` statement in python."
   ]
  },
  {
   "cell_type": "code",
   "execution_count": null,
   "metadata": {},
   "outputs": [],
   "source": [
    "x = 5 # change this value if you like\n",
    "if x == 5:\n",
    "    print(\"x was 5\")\n",
    "else:\n",
    "    print(\"x wasn't 5\")"
   ]
  },
  {
   "cell_type": "markdown",
   "metadata": {},
   "source": [
    "And here's a python `for` statement. The majority of python's looping is done using this statement"
   ]
  },
  {
   "cell_type": "code",
   "execution_count": null,
   "metadata": {},
   "outputs": [],
   "source": [
    "words = ['cat', 'window', 'defenestrate']\n",
    "for w in words:\n",
    "    print(w, len(w))"
   ]
  },
  {
   "cell_type": "markdown",
   "metadata": {},
   "source": [
    "Finally, here are some additional things you can do with lists:"
   ]
  },
  {
   "cell_type": "code",
   "execution_count": null,
   "metadata": {},
   "outputs": [],
   "source": [
    "my_list = []  # create an empty list.\n",
    "my_list.append(\"thing\")  # append an item to an existing list\n",
    "print(my_list)\n",
    "another_list = [\"this\", \"that\", \"the other\"]\n",
    "\n",
    "third_list = my_list + another_list\n",
    "print(third_list)"
   ]
  },
  {
   "cell_type": "markdown",
   "metadata": {},
   "source": [
    "You can check if an item appears somewhere in a list with using `in`."
   ]
  },
  {
   "cell_type": "code",
   "execution_count": null,
   "metadata": {},
   "outputs": [],
   "source": [
    "print(\"thing\" in third_list)\n",
    "\n",
    "test_list = [\"this\", \"hello\", \"goodbye\"]\n",
    "\n",
    "for aword in test_list:\n",
    "    if aword in third_list:\n",
    "        print(aword, \"is in the list\")\n",
    "    else:\n",
    "        print(aword, \"isnot in the list\")"
   ]
  },
  {
   "cell_type": "markdown",
   "metadata": {},
   "source": [
    "## A challenge: Working with \"stop\" lists"
   ]
  },
  {
   "cell_type": "markdown",
   "metadata": {},
   "source": [
    "Now you're going to attempt to apply what you've learned in some more challenging tasks.\n",
    "Get as far as you can on this."
   ]
  },
  {
   "cell_type": "markdown",
   "metadata": {},
   "source": [
    "We often want to ignore commonly occurring words in a text. For example, we often don't care how many times the word \"the\" or \"and\" appears. So we remove them. \n",
    "\n",
    "To do this, we usually make use of one of a number of standard lists that are generally deemed worthy of being ignore. I have provided you, in the folder named `lists`, with a collection of some standard stop lists."
   ]
  },
  {
   "cell_type": "markdown",
   "metadata": {},
   "source": [
    "Read in one of the texts you worked with above. Also read in one of the stop lists. Convert both of these to lists of words."
   ]
  },
  {
   "cell_type": "code",
   "execution_count": null,
   "metadata": {},
   "outputs": [],
   "source": []
  },
  {
   "cell_type": "markdown",
   "metadata": {},
   "source": [
    "Create a new list that consists of all of the words in your original text, but with any words on the stop lists removed."
   ]
  },
  {
   "cell_type": "code",
   "execution_count": null,
   "metadata": {},
   "outputs": [],
   "source": []
  },
  {
   "cell_type": "markdown",
   "metadata": {},
   "source": [
    "Create and plot a frequency distribution for your new list."
   ]
  },
  {
   "cell_type": "code",
   "execution_count": null,
   "metadata": {},
   "outputs": [],
   "source": []
  }
 ],
 "metadata": {
  "kernelspec": {
   "display_name": "Python 3",
   "language": "python",
   "name": "python3"
  },
  "language_info": {
   "codemirror_mode": {
    "name": "ipython",
    "version": 3
   },
   "file_extension": ".py",
   "mimetype": "text/x-python",
   "name": "python",
   "nbconvert_exporter": "python",
   "pygments_lexer": "ipython3",
   "version": "3.6.1"
  }
 },
 "nbformat": 4,
 "nbformat_minor": 2
}
