{
 "cells": [
  {
   "cell_type": "code",
   "execution_count": null,
   "metadata": {},
   "outputs": [],
   "source": [
    "%matplotlib inline\n",
    "import matplotlib\n",
    "import nltk"
   ]
  },
  {
   "cell_type": "markdown",
   "metadata": {
    "heading_collapsed": true
   },
   "source": [
    "# A bit of new python"
   ]
  },
  {
   "cell_type": "markdown",
   "metadata": {
    "heading_collapsed": true,
    "hidden": true
   },
   "source": [
    "### Dictionaries"
   ]
  },
  {
   "cell_type": "code",
   "execution_count": null,
   "metadata": {
    "hidden": true
   },
   "outputs": [],
   "source": [
    "age_dict = {}\n",
    "age_dict[\"Bruce\"] = 55\n",
    "age_dict[\"Leah\"] = 21\n",
    "age_dict[\"Mia\"] = 18\n",
    "age_dict[\"Hal\"] = \"not available\""
   ]
  },
  {
   "cell_type": "code",
   "execution_count": null,
   "metadata": {
    "hidden": true
   },
   "outputs": [],
   "source": [
    "age_dict"
   ]
  },
  {
   "cell_type": "markdown",
   "metadata": {
    "heading_collapsed": true,
    "hidden": true
   },
   "source": [
    "### More about `for` loops"
   ]
  },
  {
   "cell_type": "code",
   "execution_count": null,
   "metadata": {
    "hidden": true
   },
   "outputs": [],
   "source": [
    "name_list = [\"Bruce\", \"Leah\", \"Mia\"]"
   ]
  },
  {
   "cell_type": "code",
   "execution_count": null,
   "metadata": {
    "hidden": true
   },
   "outputs": [],
   "source": [
    "for name in name_list:\n",
    "    print(name)"
   ]
  },
  {
   "cell_type": "code",
   "execution_count": null,
   "metadata": {
    "hidden": true
   },
   "outputs": [],
   "source": [
    "for name in name_list:\n",
    "    print(name, age_dict[name])"
   ]
  },
  {
   "cell_type": "code",
   "execution_count": null,
   "metadata": {
    "hidden": true
   },
   "outputs": [],
   "source": [
    "for n in range(7):\n",
    "    print(n)"
   ]
  },
  {
   "cell_type": "markdown",
   "metadata": {
    "hidden": true
   },
   "source": [
    "### List comprehensions"
   ]
  },
  {
   "cell_type": "markdown",
   "metadata": {
    "hidden": true
   },
   "source": [
    "**List comprehensions** are a special bit of python syntex. They provide very, very compact ways of quickly building lists. They are extremely powerful, but hard to read, especially at first. \n",
    "\n",
    "I originally promised myself I would never use them, since I like my code to be readable. But they're so useful, and take so little typing, that I eventually caved. "
   ]
  },
  {
   "cell_type": "code",
   "execution_count": null,
   "metadata": {
    "hidden": true
   },
   "outputs": [],
   "source": [
    "lower_case_names = [name.lower() for name in name_list]\n",
    "lower_case_names"
   ]
  },
  {
   "cell_type": "code",
   "execution_count": null,
   "metadata": {
    "hidden": true
   },
   "outputs": [],
   "source": [
    "age_list = [age_dict[name] for name in name_list]\n",
    "age_list"
   ]
  },
  {
   "cell_type": "markdown",
   "metadata": {},
   "source": [
    "# Bigrams"
   ]
  },
  {
   "cell_type": "code",
   "execution_count": null,
   "metadata": {},
   "outputs": [],
   "source": [
    "some_text = \"now is the time for all good people to come to the aid of their country\"\n",
    "some_text_tokenized = nltk.word_tokenize(some_text)\n",
    "list(nltk.bigrams(some_text_tokenized))"
   ]
  },
  {
   "cell_type": "code",
   "execution_count": null,
   "metadata": {},
   "outputs": [],
   "source": [
    "list(nltk.trigrams(some_text_tokenized))"
   ]
  },
  {
   "cell_type": "markdown",
   "metadata": {},
   "source": [
    "# Back to the beginning (Genesis)"
   ]
  },
  {
   "cell_type": "code",
   "execution_count": null,
   "metadata": {},
   "outputs": [],
   "source": [
    "mygenesis = nltk.corpus.PlaintextCorpusReader(\"corpora\", 'genesis.txt')"
   ]
  },
  {
   "cell_type": "code",
   "execution_count": null,
   "metadata": {},
   "outputs": [],
   "source": [
    "genesis_words = [w.lower() for w in mygenesis.words()]\n",
    "genesis_sents_upper = mygenesis.sents()\n",
    "genesis_sents = []\n",
    "for sent in genesis_sents_upper:\n",
    "    new_sent = [w.lower() for w in sent]\n",
    "    genesis_sents.append(new_sent)"
   ]
  },
  {
   "cell_type": "code",
   "execution_count": null,
   "metadata": {},
   "outputs": [],
   "source": [
    "from nltk import FreqDist\n",
    "word_fdist = FreqDist(genesis_words)"
   ]
  },
  {
   "cell_type": "code",
   "execution_count": null,
   "metadata": {},
   "outputs": [],
   "source": [
    "word_fdist.most_common(10)"
   ]
  },
  {
   "cell_type": "markdown",
   "metadata": {},
   "source": [
    "# Bigrams in genesis"
   ]
  },
  {
   "cell_type": "code",
   "execution_count": null,
   "metadata": {},
   "outputs": [],
   "source": [
    "bigram_fdist = nltk.FreqDist()\n",
    "for sent in genesis_sents:\n",
    "    sent_bigrams = nltk.bigrams(sent)\n",
    "    bigram_fdist.update(sent_bigrams)"
   ]
  },
  {
   "cell_type": "code",
   "execution_count": null,
   "metadata": {},
   "outputs": [],
   "source": [
    "most_common_bigrams = bigram_fdist.most_common(25)\n",
    "most_common_bigrams"
   ]
  },
  {
   "cell_type": "markdown",
   "metadata": {},
   "source": [
    "We are interested in finding **collocations**. Collocations are pairs of words, or phrases, that have limited compositionality. This means that the meaning of the phrase cannot be determined simply from the meaning of the parts. The whole thing is, from a meaning point of view, a unit."
   ]
  },
  {
   "cell_type": "markdown",
   "metadata": {},
   "source": [
    "To get started, let's first just try pruning some of the obviously uninteresting bigrams from our list"
   ]
  },
  {
   "cell_type": "code",
   "execution_count": null,
   "metadata": {},
   "outputs": [],
   "source": [
    "ignore_list = list('!\"#$%&\\'()*+,-./:;<=>?@[\\\\]^_`{|}~’')\n",
    "ignore_list += list(\"abcdefghijklmnopqrstuvwxyz0123456789\")\n",
    "print(ignore_list)"
   ]
  },
  {
   "cell_type": "code",
   "execution_count": null,
   "metadata": {},
   "outputs": [],
   "source": [
    "most_common_bigrams = bigram_fdist.most_common(100)\n",
    "most_common_pruned = []\n",
    "for bg_entry in most_common_bigrams:\n",
    "    if bg_entry[0][0] in ignore_list or bg_entry[0][1] in ignore_list:\n",
    "        continue\n",
    "    most_common_pruned.append(bg_entry)"
   ]
  },
  {
   "cell_type": "code",
   "execution_count": null,
   "metadata": {},
   "outputs": [],
   "source": [
    "most_common_pruned[:50]"
   ]
  },
  {
   "cell_type": "code",
   "execution_count": null,
   "metadata": {},
   "outputs": [],
   "source": [
    "f = open(\"lists/stop-words_english_5_en.txt\")\n",
    "stop_list = set(f.read().split(\"\\n\"))\n",
    "ignore_list += stop_list"
   ]
  },
  {
   "cell_type": "code",
   "execution_count": null,
   "metadata": {},
   "outputs": [],
   "source": [
    "most_common_bigrams = bigram_fdist.most_common(500)\n",
    "most_common_pruned = []\n",
    "for bg_entry in most_common_bigrams:\n",
    "    if bg_entry[0][0] in ignore_list or bg_entry[0][1] in ignore_list:\n",
    "        continue\n",
    "    most_common_pruned.append(bg_entry)"
   ]
  },
  {
   "cell_type": "code",
   "execution_count": null,
   "metadata": {},
   "outputs": [],
   "source": [
    "most_common_pruned[:50]"
   ]
  },
  {
   "cell_type": "code",
   "execution_count": null,
   "metadata": {},
   "outputs": [],
   "source": [
    "olden_stop_words = [\"unto\", \"thou\", \"hast\", \"thee\", \"thy\", \"ye\", \"shall\", \"art\", \"hath\", \"thy\", \"said\", \"did\"]\n",
    "ignore_list += olden_stop_words"
   ]
  },
  {
   "cell_type": "code",
   "execution_count": null,
   "metadata": {},
   "outputs": [],
   "source": [
    "most_common_bigrams = bigram_fdist.most_common(2000)\n",
    "most_common_pruned = []\n",
    "for bg_entry in most_common_bigrams:\n",
    "    if bg_entry[0][0] in ignore_list or bg_entry[0][1] in ignore_list:\n",
    "        continue\n",
    "    most_common_pruned.append(bg_entry)"
   ]
  },
  {
   "cell_type": "markdown",
   "metadata": {},
   "source": [
    "The cell below uses a little trick to help us display tables more nicely in the notebook."
   ]
  },
  {
   "cell_type": "code",
   "execution_count": null,
   "metadata": {},
   "outputs": [],
   "source": [
    "class ListTable(list):\n",
    "    def _repr_html_(self):\n",
    "        html = [\"<table style= 'border: 1px solid black;''>\"]\n",
    "        for row in self:\n",
    "            html.append(\"<tr>\")\n",
    "            for col in row:\n",
    "                html.append(\"<td align='left' style='border: .5px solid gray;''>{0}</td>\".format(col))\n",
    "            \n",
    "            html.append(\"</tr>\")\n",
    "        html.append(\"</table>\")\n",
    "        return ''.join(html)"
   ]
  },
  {
   "cell_type": "code",
   "execution_count": null,
   "metadata": {},
   "outputs": [],
   "source": [
    "test_table = ListTable()\n",
    "test_table.append([\"first\", \"second\", \"third\"])\n",
    "test_table.append([\"some data\", \"more data\", \"yet more data\"])\n",
    "test_table.append([\"3\", \"5\", \"7\"])\n",
    "test_table"
   ]
  },
  {
   "cell_type": "code",
   "execution_count": null,
   "metadata": {},
   "outputs": [],
   "source": [
    "t = ListTable()\n",
    "t.append([\"w1\", \"w2\", \"freq\"])\n",
    "for mc in most_common_pruned[:25]:\n",
    "    t.append([mc[0][0], mc[0][1], mc[1]])\n",
    "t"
   ]
  },
  {
   "cell_type": "markdown",
   "metadata": {},
   "source": [
    "# Are some bigrams more common than to be expected?"
   ]
  },
  {
   "cell_type": "markdown",
   "metadata": {},
   "source": [
    "## t_test as measure"
   ]
  },
  {
   "cell_type": "code",
   "execution_count": null,
   "metadata": {},
   "outputs": [],
   "source": [
    "p_begat = word_fdist[\"begat\"] / word_fdist.N()\n",
    "print(\"P(begat)=\" + str(p_begat))\n",
    "\n",
    "p_sons = word_fdist[\"sons\"] / word_fdist.N()\n",
    "print(\"P(sons)=\" + str(p_sons))\n",
    "\n",
    "p_product = word_fdist[\"begat\"] * word_fdist[\"sons\"] / (word_fdist.N() * word_fdist.N())\n",
    "print(\"P(product)=\" + str(p_product))\n",
    "\n",
    "p_observed = bigram_fdist[(\"begat\", \"sons\")] / word_fdist.N()\n",
    "print(\"P(product)=\" + str(p_observed))"
   ]
  },
  {
   "attachments": {
    "image.png": {
     "image/png": "[encoded data removed]"
    }
   },
   "cell_type": "markdown",
   "metadata": {},
   "source": [
    "![image.png](attachment:image.png)"
   ]
  },
  {
   "cell_type": "code",
   "execution_count": null,
   "metadata": {},
   "outputs": [],
   "source": [
    "import math\n",
    "def student_t(w1, w2):\n",
    "    mu = word_fdist[w1] * word_fdist[w2] / (word_fdist.N() * word_fdist.N())\n",
    "    x = bigram_fdist[(w1, w2)] / word_fdist.N()\n",
    "    s_squared = x\n",
    "    denom = math.sqrt(s_squared / word_fdist.N())\n",
    "    return (x - mu) / denom"
   ]
  },
  {
   "cell_type": "code",
   "execution_count": null,
   "metadata": {},
   "outputs": [],
   "source": [
    "student_t(\"begat\", \"sons\")"
   ]
  },
  {
   "cell_type": "code",
   "execution_count": null,
   "metadata": {},
   "outputs": [],
   "source": [
    "t = ListTable()\n",
    "t.append([\"w1\", \"w2\", \"freq\", \"score\"])\n",
    "for mc in most_common_pruned[:25]:\n",
    "    w1 = mc[0][0]\n",
    "    w2 = mc[0][1]\n",
    "    t.append([w1, w2, mc[1], round(student_t(w1, w2), 3)])\n",
    "t"
   ]
  },
  {
   "cell_type": "markdown",
   "metadata": {
    "heading_collapsed": true
   },
   "source": [
    "### Highest t-test scores overall"
   ]
  },
  {
   "cell_type": "code",
   "execution_count": null,
   "metadata": {
    "hidden": true
   },
   "outputs": [],
   "source": [
    "res_dict = {}\n",
    "res_list = []\n",
    "for k in bigram_fdist.keys():\n",
    "    if k[0] in ignore_list or k[1] in ignore_list:\n",
    "        continue\n",
    "    score = student_t(k[0], k[1])\n",
    "    res_dict[k] = score\n",
    "    res_list.append([k[0], k[1], bigram_fdist[(k[0], k[1])], round(score, 3)])\n",
    "res_list.sort(key=lambda x: x[3], reverse=True)\n",
    "table = ListTable()\n",
    "table.append([\"w1\", \"w2\", \"freq\", \"score\"])\n",
    "table += res_list[:25]\n",
    "table"
   ]
  },
  {
   "cell_type": "markdown",
   "metadata": {
    "hidden": true
   },
   "source": [
    "http://www.nltk.org/howto/collocations.html"
   ]
  },
  {
   "cell_type": "markdown",
   "metadata": {},
   "source": [
    "# Exploration of word co-occurrences"
   ]
  },
  {
   "cell_type": "code",
   "execution_count": null,
   "metadata": {},
   "outputs": [],
   "source": [
    "pruned_genesis_words = [w for w in genesis_words if w not in ignore_list]\n",
    "pruned_genesis_sents = []\n",
    "for sent in genesis_sents:\n",
    "    new_sent = [w for w in sent if w not in ignore_list]\n",
    "    pruned_genesis_sents.append(new_sent)"
   ]
  },
  {
   "cell_type": "code",
   "execution_count": null,
   "metadata": {},
   "outputs": [],
   "source": [
    "import nltk\n",
    "pword_fdist = nltk.FreqDist()\n",
    "pword_fdist.update(pruned_genesis_words)"
   ]
  },
  {
   "cell_type": "code",
   "execution_count": null,
   "metadata": {},
   "outputs": [],
   "source": [
    "most_common = [w[0] for w in pword_fdist.most_common(50)]"
   ]
  },
  {
   "cell_type": "code",
   "execution_count": null,
   "metadata": {},
   "outputs": [],
   "source": [
    "import nltk\n",
    "import copy\n",
    "pword_fdist = nltk.FreqDist()\n",
    "mrow = [0 for r in most_common]\n",
    "mat = [copy.copy(mrow) for r in most_common]\n",
    "for sent in genesis_sents:\n",
    "    for n1, w1 in enumerate(most_common):\n",
    "        if w1 in sent:\n",
    "            for n2, w2 in enumerate(most_common):\n",
    "                if w2 in sent:\n",
    "                    mat[n1][n2] += 1"
   ]
  },
  {
   "cell_type": "markdown",
   "metadata": {},
   "source": [
    "## Matplotlib digression"
   ]
  },
  {
   "cell_type": "markdown",
   "metadata": {},
   "source": [
    "https://matplotlib.org/api/pyplot_summary.html"
   ]
  },
  {
   "cell_type": "code",
   "execution_count": null,
   "metadata": {},
   "outputs": [],
   "source": [
    "import matplotlib.pyplot as plt\n",
    "plt.plot([1, 3, 4, 2])"
   ]
  },
  {
   "cell_type": "code",
   "execution_count": null,
   "metadata": {},
   "outputs": [],
   "source": [
    "plt.plot([1, 3, 4, 2], \"bo\")"
   ]
  },
  {
   "cell_type": "code",
   "execution_count": null,
   "metadata": {},
   "outputs": [],
   "source": [
    "plt.bar([1, 2, 3, 4], [1, 3, 4, 2])"
   ]
  },
  {
   "cell_type": "markdown",
   "metadata": {},
   "source": [
    "## Back to co-occurrence"
   ]
  },
  {
   "cell_type": "code",
   "execution_count": null,
   "metadata": {},
   "outputs": [],
   "source": [
    "import matplotlib.pyplot as plt\n",
    "import numpy as np\n",
    "fig=plt.figure(figsize=(10, 10), dpi= 80, facecolor='w', edgecolor='k')\n",
    "n = len(most_common)\n",
    "x_tick_marks = np.arange(n)\n",
    "y_tick_marks = np.arange(n)\n",
    "plt.xticks(x_tick_marks, most_common, fontsize=8, rotation=90)\n",
    "plt.yticks(y_tick_marks, most_common, fontsize=8)\n",
    "plt.tick_params(\"x\", top=True, labeltop=True, bottom=False, labelbottom=False)\n",
    "plt.imshow(mat, norm=matplotlib.colors.LogNorm(), interpolation='nearest', cmap='YlOrBr')"
   ]
  },
  {
   "cell_type": "code",
   "execution_count": null,
   "metadata": {},
   "outputs": [],
   "source": [
    "import itertools\n",
    "possible_pairs = list( itertools.combinations(most_common[:25], 2)) "
   ]
  },
  {
   "cell_type": "code",
   "execution_count": null,
   "metadata": {},
   "outputs": [],
   "source": [
    "import networkx as nx\n",
    "fig=plt.figure(figsize=(10, 10), dpi= 80, facecolor='w', edgecolor='k')\n",
    "G2 = nx.Graph()\n",
    "for pair in possible_pairs:\n",
    "    wgt = mat[most_common.index(pair[0])][most_common.index(pair[1])]\n",
    "    G2.add_edge(pair[0], pair[1], weight=wgt)\n",
    "widths = list(nx.get_edge_attributes(G2, \"weight\").values())\n",
    "widths = [w / 35 for w in widths]\n",
    "pos = nx.spring_layout(G2, iterations=40, weight=\"weight\") \n",
    "nx.draw(G2, pos, k=.01, with_labels=True, width=widths, node_color=\"gold\", edge_color=\"orange\")"
   ]
  },
  {
   "cell_type": "markdown",
   "metadata": {},
   "source": [
    "# A new corpus: The journal MTMS going back to 2007"
   ]
  },
  {
   "cell_type": "markdown",
   "metadata": {
    "heading_collapsed": true
   },
   "source": [
    "## Some machinery to read in the corpus\n",
    "\n",
    "This uses some more advanced python. Look at it if you want, but I'm assuming you'll ignore it for now."
   ]
  },
  {
   "cell_type": "code",
   "execution_count": null,
   "metadata": {
    "hidden": true
   },
   "outputs": [],
   "source": [
    "import csv\n",
    "import nltk\n",
    "import os\n",
    "\n",
    "class mtms_document:\n",
    "    def __init__(self, base, filename):\n",
    "        csvfile = open(base + \"/\" + filename)\n",
    "        csv_reader = csv.DictReader(csvfile, delimiter=\",\")\n",
    "        self._filename = filename\n",
    "        self._paragraphs = []\n",
    "        self._sentences = []\n",
    "        self._words = []\n",
    "        for r in csv_reader:\n",
    "            raw_sentences = nltk.sent_tokenize(r[\"text\"])\n",
    "            new_sentences = [nltk.word_tokenize(sent) for sent in raw_sentences]\n",
    "            self._sentences += new_sentences\n",
    "            new_words = []\n",
    "            for sent in new_sentences:\n",
    "                new_words += sent\n",
    "                self._paragraphs.append(new_words)\n",
    "            self._words += new_words\n",
    "        return\n",
    "            \n",
    "    def words(self):\n",
    "        return self._words\n",
    "    \n",
    "    def paragraphs(self):\n",
    "        return self._paragraphs\n",
    "    \n",
    "    def sentences(self):\n",
    "        return self._sentences\n",
    "    \n",
    "    def name(self):\n",
    "        return self._filename\n",
    "    \n",
    "class mtms_reader:\n",
    "    def __init__(self):\n",
    "        self.base = \"corpora/mtms_csv\"\n",
    "        self._name_list = os.listdir(self.base)\n",
    "        self.mtms_docs = {}\n",
    "        self._words = []\n",
    "        self._sentences = []\n",
    "        self._paragraphs = []\n",
    "        self._document_list = []\n",
    "        ndocs = len(name_list)\n",
    "        for n, fname in enumerate(self._name_list):\n",
    "            if n % 100 == 0:\n",
    "                print(\"processing doc {} of {}\".format(n, ndocs))\n",
    "            new_doc = mtms_document(self.base, fname)\n",
    "            self.mtms_docs[fname] = new_doc\n",
    "            self._words += new_doc.words()\n",
    "            self._sentences += new_doc.sentences()\n",
    "            self._paragraphs += new_doc.paragraphs()\n",
    "        return\n",
    "    \n",
    "    def document_names(self):\n",
    "        return self._name_list\n",
    "    \n",
    "    def words(self):\n",
    "        return self._words\n",
    "    \n",
    "    def sentences(self):\n",
    "        return self._sentences\n",
    "    \n",
    "    def paragraphs(self):\n",
    "        return self._paragraphs\n",
    "    \n",
    "    def __getitem__(self, docname):\n",
    "        return self.mtms_docs[docname]"
   ]
  },
  {
   "cell_type": "markdown",
   "metadata": {},
   "source": [
    "## Read in the new corpus"
   ]
  },
  {
   "cell_type": "code",
   "execution_count": null,
   "metadata": {},
   "outputs": [],
   "source": [
    "mr = mtms_reader()"
   ]
  },
  {
   "cell_type": "markdown",
   "metadata": {},
   "source": [
    "You can access the words, sentences, and paragraphs like so"
   ]
  },
  {
   "cell_type": "code",
   "execution_count": null,
   "metadata": {},
   "outputs": [],
   "source": [
    "print(mr.words()[:25])\n",
    "print(mr.sentences()[9])\n",
    "print(mr.paragraphs()[9])"
   ]
  },
  {
   "cell_type": "markdown",
   "metadata": {},
   "source": [
    "You can also work with individual files, if you want."
   ]
  },
  {
   "cell_type": "code",
   "execution_count": null,
   "metadata": {},
   "outputs": [],
   "source": [
    "print(mr.document_names()[:2])"
   ]
  },
  {
   "cell_type": "code",
   "execution_count": null,
   "metadata": {},
   "outputs": [],
   "source": [
    "doc = mr[\"mtms2012-12-286a-Table 1.csv\"]"
   ]
  },
  {
   "cell_type": "code",
   "execution_count": null,
   "metadata": {},
   "outputs": [],
   "source": [
    "print(doc.words()[:25])"
   ]
  }
 ],
 "metadata": {
  "kernelspec": {
   "display_name": "Python 3",
   "language": "python",
   "name": "python3"
  },
  "language_info": {
   "codemirror_mode": {
    "name": "ipython",
    "version": 3
   },
   "file_extension": ".py",
   "mimetype": "text/x-python",
   "name": "python",
   "nbconvert_exporter": "python",
   "pygments_lexer": "ipython3",
   "version": "3.6.1"
  },
  "toc": {
   "base_numbering": 1,
   "nav_menu": {},
   "number_sections": true,
   "sideBar": true,
   "skip_h1_title": false,
   "title_cell": "Table of Contents",
   "title_sidebar": "Contents",
   "toc_cell": false,
   "toc_position": {
    "height": "calc(100% - 180px)",
    "left": "10px",
    "top": "150px",
    "width": "409.59375px"
   },
   "toc_section_display": true,
   "toc_window_display": true
  }
 },
 "nbformat": 4,
 "nbformat_minor": 2
}
