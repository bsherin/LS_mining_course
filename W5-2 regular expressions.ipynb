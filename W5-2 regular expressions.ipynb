{
 "cells": [
  {
   "cell_type": "markdown",
   "metadata": {},
   "source": [
    "# Regular Expressions"
   ]
  },
  {
   "cell_type": "markdown",
   "metadata": {},
   "source": [
    "For our purposes, you can think of a regular expression as a way of describing patterns in strings.\n",
    "In the context of python, they are like another mini-language inside python."
   ]
  },
  {
   "cell_type": "code",
   "execution_count": null,
   "metadata": {},
   "outputs": [],
   "source": [
    "txt = \"cats like to sleep on cots that cater to the cite the cat contingent and perform ct scans\""
   ]
  },
  {
   "cell_type": "markdown",
   "metadata": {},
   "source": [
    "You have to ``import re`` to use regular expressions in python"
   ]
  },
  {
   "cell_type": "code",
   "execution_count": null,
   "metadata": {},
   "outputs": [],
   "source": [
    "import re"
   ]
  },
  {
   "cell_type": "markdown",
   "metadata": {},
   "source": [
    "Regular expressions are made up of literal characters and *metacharacters*. Literal characters perform an exact match."
   ]
  },
  {
   "cell_type": "code",
   "execution_count": null,
   "metadata": {},
   "outputs": [],
   "source": [
    "re.findall(\"cat\", txt)"
   ]
  },
  {
   "cell_type": "code",
   "execution_count": null,
   "metadata": {},
   "outputs": [],
   "source": [
    "re.findall(\"xx\", txt)"
   ]
  },
  {
   "cell_type": "code",
   "execution_count": null,
   "metadata": {},
   "outputs": [],
   "source": [
    "re.sub(\"cat\", \"hello\", txt)"
   ]
  },
  {
   "cell_type": "markdown",
   "metadata": {},
   "source": [
    "**A couple of useful links**\n",
    "\n",
    "[python regular expression syntax](https://docs.python.org/3.7/library/re.html#re-syntax)\n",
    "\n",
    "[python re howto](https://docs.python.org/3.7/howto/regex.html?highlight=regular%20expressions)"
   ]
  },
  {
   "cell_type": "markdown",
   "metadata": {},
   "source": [
    "## Metacharacters"
   ]
  },
  {
   "cell_type": "markdown",
   "metadata": {},
   "source": [
    "`. ^ $ * + ? { } [ ] \\ | ( )`"
   ]
  },
  {
   "cell_type": "markdown",
   "metadata": {},
   "source": [
    "`.` In the default mode, this matches any character except a newline. \n",
    "\n",
    "`^` Matches the start of the string.\n",
    "\n",
    "`$` Matches the end of the string or just before the newline at the end of the string.\n",
    "\n",
    "`*` Causes the resulting RE to match 0 or more repetitions of the preceding RE, as many repetitions as are possible.\n",
    "\n",
    "`+` Causes the resulting RE to match 1 or more repetitions of the preceding RE. \n",
    "\n",
    "`?` Causes the resulting RE to match 0 or 1 repetitions of the preceding RE. \n",
    "\n",
    "`*?, +?, ??` Make the '*', '+', and '?' qualifiers non-greedy\n",
    "\n",
    "`\\` Either escapes special characters, or signals a special sequence.\n",
    "\n",
    "`(...)` Matches whatever regular expression is inside the parentheses, and indicates the start and end of a group\n",
    "\n",
    "`[]` Specifies a class of characters any of which can match.\n"
   ]
  },
  {
   "cell_type": "code",
   "execution_count": null,
   "metadata": {},
   "outputs": [],
   "source": [
    "re.findall(\"c.t\", txt)"
   ]
  },
  {
   "cell_type": "code",
   "execution_count": null,
   "metadata": {},
   "outputs": [],
   "source": [
    "re.findall(\"c.t.\", txt)"
   ]
  },
  {
   "cell_type": "code",
   "execution_count": null,
   "metadata": {},
   "outputs": [],
   "source": [
    "re.findall(\"c.?t.\", txt)"
   ]
  },
  {
   "cell_type": "markdown",
   "metadata": {},
   "source": [
    "## Special sequences (some of them)\n",
    "\n",
    "`\\d` Matches any decimal digit; this is equivalent to the class [0-9].\n",
    "\n",
    "`\\D` Matches any non-digit character; this is equivalent to the class [^0-9].\n",
    "\n",
    "`\\s` Matches any whitespace character; this is equivalent to the class [ \\t\\n\\r\\f\\v].\n",
    "\n",
    "`\\S` Matches any non-whitespace character; this is equivalent to the class [^ \\t\\n\\r\\f\\v].\n",
    "\n",
    "`\\w` Matches any alphanumeric character; this is equivalent to the class [a-zA-Z0-9_].\n",
    "\n",
    "`\\W` Matches any non-alphanumeric character; this is equivalent to the class [^a-zA-Z0-9_]."
   ]
  },
  {
   "cell_type": "markdown",
   "metadata": {},
   "source": [
    "## Functions"
   ]
  },
  {
   "cell_type": "markdown",
   "metadata": {},
   "source": [
    "`match()`\tDetermine if the RE matches at the beginning of the string.\n",
    "\n",
    "`search()`\tScan through a string, looking for any location where this RE matches.\n",
    "\n",
    "`findall()`\tFind all substrings where the RE matches, and returns them as a list.\n",
    "\n",
    "`sub()`\tSubstitue the matched expressions with a new expression."
   ]
  },
  {
   "cell_type": "code",
   "execution_count": null,
   "metadata": {},
   "outputs": [],
   "source": [
    "txt3 = \"mary 1, john 2, carla 3\"\n",
    "re.findall(\"\\d\", txt3)"
   ]
  },
  {
   "cell_type": "code",
   "execution_count": null,
   "metadata": {},
   "outputs": [],
   "source": [
    "re.findall(\"[a-z]* \\d\", txt3)"
   ]
  },
  {
   "cell_type": "markdown",
   "metadata": {},
   "source": [
    "Use parentheses to capture parts of a matched expressions"
   ]
  },
  {
   "cell_type": "code",
   "execution_count": null,
   "metadata": {},
   "outputs": [],
   "source": [
    "re.findall(\"[a-z]* (\\d)\", txt3)"
   ]
  },
  {
   "cell_type": "code",
   "execution_count": null,
   "metadata": {},
   "outputs": [],
   "source": [
    "re.findall(\"([a-z]*) (\\d)\", txt3)"
   ]
  },
  {
   "cell_type": "code",
   "execution_count": null,
   "metadata": {},
   "outputs": [],
   "source": [
    "matches = re.findall(\"([a-z]*) (\\d)\", txt3)\n",
    "mydict = {}\n",
    "for result in matches:\n",
    "    mydict[result[0]] = result[1]\n",
    "mydict"
   ]
  },
  {
   "cell_type": "code",
   "execution_count": null,
   "metadata": {},
   "outputs": [],
   "source": [
    "txt2 = \"mary is happy, john is generally a good guy, carla is honest\""
   ]
  },
  {
   "cell_type": "code",
   "execution_count": null,
   "metadata": {},
   "outputs": [],
   "source": [
    "re.findall(\"([a-z]*) is ([a-z]*),\", txt2)"
   ]
  },
  {
   "cell_type": "code",
   "execution_count": null,
   "metadata": {},
   "outputs": [],
   "source": [
    "re.findall(\"([a-z]*) is (.*?),\", txt2)"
   ]
  },
  {
   "cell_type": "code",
   "execution_count": null,
   "metadata": {},
   "outputs": [],
   "source": [
    "re.findall(\"([a-z]*) is (.*?)(,|$)\", txt2)"
   ]
  },
  {
   "cell_type": "code",
   "execution_count": null,
   "metadata": {},
   "outputs": [],
   "source": [
    "re.findall(\"([a-z]*) is (.*?)(?:,|$)\", txt2)"
   ]
  },
  {
   "cell_type": "code",
   "execution_count": null,
   "metadata": {},
   "outputs": [],
   "source": []
  }
 ],
 "metadata": {
  "kernelspec": {
   "display_name": "Python 3",
   "language": "python",
   "name": "python3"
  },
  "language_info": {
   "codemirror_mode": {
    "name": "ipython",
    "version": 3
   },
   "file_extension": ".py",
   "mimetype": "text/x-python",
   "name": "python",
   "nbconvert_exporter": "python",
   "pygments_lexer": "ipython3",
   "version": "3.6.1"
  }
 },
 "nbformat": 4,
 "nbformat_minor": 2
}
