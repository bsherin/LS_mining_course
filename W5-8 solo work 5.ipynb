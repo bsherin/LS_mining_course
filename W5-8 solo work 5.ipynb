{
 "cells": [
  {
   "cell_type": "markdown",
   "metadata": {},
   "source": [
    "# Build your own corpus from wikipedia"
   ]
  },
  {
   "cell_type": "markdown",
   "metadata": {},
   "source": [
    "Here are the steps:\n",
    "\n",
    "1. Decide on a topic that you're interested in.\n",
    "2. Identify a handful of wikipedia pages that pertain to this topic. \n",
    "3. Use a web browser to save the source of these pages to your computer.\n",
    "4. Load these pages into python.\n",
    "    * If you want, you can start by just reading in one of your saved pages.\n",
    "5. Extract the text from these pages in some useful form.\n",
    "    * You can do this by using beautifulsoup or regular expressions. \n",
    "    * You'll definitely have to do some poking around in the source of the pages first.\n",
    "6. Tokenize the text you've collected.\n",
    "    * You can do this however you want. You can use nltk.tokenize, or one of the tokenizers we have used in the course.\n",
    "    * You can use your own regular expressions.\n",
    "    * You can use a combination.\n",
    "7. Construct a frequency distribution of the words in your little corpus.\n",
    "    * Take a look. What do you think?\n",
    "8. Remove words from a stop list and look at the frequency distribution again.\n",
    "9. Finally, stem the words in your corpus and construct a final frequency distribution."
   ]
  },
  {
   "cell_type": "code",
   "execution_count": null,
   "metadata": {},
   "outputs": [],
   "source": []
  }
 ],
 "metadata": {
  "kernelspec": {
   "display_name": "Python 3",
   "language": "python",
   "name": "python3"
  },
  "language_info": {
   "codemirror_mode": {
    "name": "ipython",
    "version": 3
   },
   "file_extension": ".py",
   "mimetype": "text/x-python",
   "name": "python",
   "nbconvert_exporter": "python",
   "pygments_lexer": "ipython3",
   "version": "3.6.1"
  }
 },
 "nbformat": 4,
 "nbformat_minor": 2
}
