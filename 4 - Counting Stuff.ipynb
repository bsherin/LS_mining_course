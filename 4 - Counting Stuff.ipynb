{
 "cells": [
  {
   "cell_type": "markdown",
   "metadata": {},
   "source": [
    "# Counting Words"
   ]
  },
  {
   "cell_type": "markdown",
   "metadata": {},
   "source": [
    "Let's do some standard imports."
   ]
  },
  {
   "cell_type": "code",
   "execution_count": 1,
   "metadata": {},
   "outputs": [],
   "source": [
    "%matplotlib inline\n",
    "import matplotlib\n",
    "import nltk"
   ]
  },
  {
   "cell_type": "markdown",
   "metadata": {},
   "source": [
    "## Unique words in a corpus"
   ]
  },
  {
   "cell_type": "markdown",
   "metadata": {},
   "source": [
    "Again, let's use nltk to get the words in genesis as a list."
   ]
  },
  {
   "cell_type": "code",
   "execution_count": 2,
   "metadata": {},
   "outputs": [],
   "source": [
    "mygenesis = nltk.corpus.PlaintextCorpusReader(\"corpora\", 'genesis.txt')\n",
    "genesis_words = mygenesis.words()"
   ]
  },
  {
   "cell_type": "markdown",
   "metadata": {},
   "source": [
    "Here's how long it is, in words."
   ]
  },
  {
   "cell_type": "code",
   "execution_count": 4,
   "metadata": {},
   "outputs": [
    {
     "data": {
      "text/plain": [
       "44764"
      ]
     },
     "execution_count": 4,
     "metadata": {},
     "output_type": "execute_result"
    }
   ],
   "source": [
    "len(genesis_words)"
   ]
  },
  {
   "cell_type": "markdown",
   "metadata": {},
   "source": [
    "**sets**\n",
    "\n",
    "We've learned about `strings` and `lists` as types of objects in python.\n",
    "\n",
    "Another type is a `set`. Sets are like lists, except that each item can only appear once.\n",
    "\n",
    "You can make a set by converting a list:"
   ]
  },
  {
   "cell_type": "code",
   "execution_count": 7,
   "metadata": {},
   "outputs": [
    {
     "data": {
      "text/plain": [
       "{'bruce', 'that', 'this'}"
      ]
     },
     "execution_count": 7,
     "metadata": {},
     "output_type": "execute_result"
    }
   ],
   "source": [
    "my_list = ['this', 'that', 'bruce', 'this']\n",
    "my_set = set(my_list)\n",
    "my_set"
   ]
  },
  {
   "cell_type": "markdown",
   "metadata": {},
   "source": [
    "So, we can use `set()` to figure out how many unique words there are in genesis."
   ]
  },
  {
   "cell_type": "code",
   "execution_count": 9,
   "metadata": {},
   "outputs": [
    {
     "data": {
      "text/plain": [
       "2789"
      ]
     },
     "execution_count": 9,
     "metadata": {},
     "output_type": "execute_result"
    }
   ],
   "source": [
    "genesis_set = set(genesis_words)\n",
    "len(genesis_set)"
   ]
  },
  {
   "cell_type": "markdown",
   "metadata": {},
   "source": [
    "Let's invent something called *lexical diversity* and define a function to compute it. (This is just for some practice with defining a function.)"
   ]
  },
  {
   "cell_type": "code",
   "execution_count": 12,
   "metadata": {},
   "outputs": [],
   "source": [
    "def lexical_diversity(text):\n",
    "    set_text = set(text)\n",
    "    return len(set_text) / len(text)"
   ]
  },
  {
   "cell_type": "code",
   "execution_count": 13,
   "metadata": {},
   "outputs": [
    {
     "data": {
      "text/plain": [
       "0.06230453042623537"
      ]
     },
     "execution_count": 13,
     "metadata": {},
     "output_type": "execute_result"
    }
   ],
   "source": [
    "lexical_diversity(genesis_words)"
   ]
  },
  {
   "cell_type": "markdown",
   "metadata": {},
   "source": [
    "## Frequency distributions\n",
    "\n",
    "A *frequency distribution* is a tabulation of how many times each unique word appears in a corpus. \n",
    "\n",
    "Let's compute the frequency distribution for genesis. To do that we will use nltk's `FreqDist`, which is designed for this purpose. These two lines do all of the work for us."
   ]
  },
  {
   "cell_type": "code",
   "execution_count": 15,
   "metadata": {},
   "outputs": [],
   "source": [
    "from nltk import FreqDist\n",
    "fdist = FreqDist(genesis_words)"
   ]
  },
  {
   "cell_type": "markdown",
   "metadata": {},
   "source": [
    "We can ask a `FreqDist` object to list the most common words for us, along with how many times each one appears."
   ]
  },
  {
   "cell_type": "code",
   "execution_count": 17,
   "metadata": {},
   "outputs": [
    {
     "data": {
      "text/plain": [
       "[(',', 3681),\n",
       " ('and', 2428),\n",
       " ('the', 2411),\n",
       " ('of', 1358),\n",
       " ('.', 1315),\n",
       " ('And', 1250),\n",
       " ('his', 651),\n",
       " ('he', 648),\n",
       " ('to', 611),\n",
       " (';', 605),\n",
       " ('unto', 590),\n",
       " ('in', 588),\n",
       " ('that', 509),\n",
       " ('I', 484),\n",
       " ('said', 476),\n",
       " ('him', 387),\n",
       " ('a', 342),\n",
       " ('my', 325),\n",
       " ('was', 317),\n",
       " ('for', 297),\n",
       " ('it', 290),\n",
       " ('with', 289),\n",
       " ('me', 282),\n",
       " ('thou', 272),\n",
       " (\"'\", 268)]"
      ]
     },
     "execution_count": 17,
     "metadata": {},
     "output_type": "execute_result"
    }
   ],
   "source": [
    "fdist.most_common(25)"
   ]
  },
  {
   "cell_type": "markdown",
   "metadata": {},
   "source": [
    "A `FreqDist` object can also draw a plot for us of the distribution"
   ]
  },
  {
   "cell_type": "code",
   "execution_count": 18,
   "metadata": {},
   "outputs": [
    {
     "data": {
      "image/png": "[encoded data removed]",
      "text/plain": [
       "<Figure size 432x288 with 1 Axes>"
      ]
     },
     "metadata": {
      "needs_background": "light"
     },
     "output_type": "display_data"
    }
   ],
   "source": [
    "fdist.plot(25)"
   ]
  },
  {
   "cell_type": "markdown",
   "metadata": {},
   "source": [
    "This plot shows the commulative counts for the 25 top words"
   ]
  },
  {
   "cell_type": "code",
   "execution_count": 19,
   "metadata": {},
   "outputs": [
    {
     "data": {
      "image/png": "[encoded data removed]",
      "text/plain": [
       "<Figure size 432x288 with 1 Axes>"
      ]
     },
     "metadata": {
      "needs_background": "light"
     },
     "output_type": "display_data"
    }
   ],
   "source": [
    "fdist.plot(25, cumulative=True)"
   ]
  },
  {
   "cell_type": "markdown",
   "metadata": {},
   "source": [
    "One last tidbit for today."
   ]
  },
  {
   "cell_type": "code",
   "execution_count": 28,
   "metadata": {},
   "outputs": [],
   "source": [
    "stop_list = set(nltk.corpus.PlaintextCorpusReader(\"lists\", 'stop-words_english_5_en.txt').words())"
   ]
  },
  {
   "cell_type": "code",
   "execution_count": 36,
   "metadata": {},
   "outputs": [],
   "source": [
    "filtered_words = [w.lower() for w in mygenesis.words() if w.lower() not in stop_list]\n",
    "fdist_filtered = nltk.FreqDist(filtered_words)"
   ]
  },
  {
   "cell_type": "code",
   "execution_count": 37,
   "metadata": {},
   "outputs": [
    {
     "data": {
      "text/plain": [
       "[(',', 3681),\n",
       " ('.', 1315),\n",
       " (';', 605),\n",
       " ('unto', 598),\n",
       " ('said', 477),\n",
       " ('thou', 284),\n",
       " ('thy', 278),\n",
       " (\"'\", 268),\n",
       " ('s', 263),\n",
       " ('shall', 259),\n",
       " ('thee', 257),\n",
       " (':', 238),\n",
       " ('god', 231),\n",
       " ('lord', 207),\n",
       " ('father', 198),\n",
       " ('land', 184),\n",
       " ('jacob', 179),\n",
       " ('came', 177),\n",
       " ('joseph', 157),\n",
       " ('son', 152),\n",
       " ('?', 148),\n",
       " ('sons', 142),\n",
       " ('abraham', 129),\n",
       " ('behold', 118),\n",
       " ('man', 115),\n",
       " ('earth', 112),\n",
       " ('went', 110),\n",
       " ('wife', 104),\n",
       " ('years', 102),\n",
       " ('called', 98),\n",
       " ('ye', 96),\n",
       " ('let', 93),\n",
       " ('brother', 91),\n",
       " ('pharaoh', 90),\n",
       " ('hand', 82),\n",
       " ('pass', 82),\n",
       " ('house', 82),\n",
       " ('took', 81),\n",
       " ('hath', 80),\n",
       " ('brethren', 80),\n",
       " ('saying', 79),\n",
       " ('isaac', 77),\n",
       " ('come', 75),\n",
       " ('shalt', 74),\n",
       " ('egypt', 74),\n",
       " ('esau', 74),\n",
       " ('day', 72),\n",
       " ('begat', 67),\n",
       " ('men', 65),\n",
       " ('children', 62)]"
      ]
     },
     "execution_count": 37,
     "metadata": {},
     "output_type": "execute_result"
    }
   ],
   "source": [
    "fdist_filtered.most_common(50)"
   ]
  },
  {
   "cell_type": "code",
   "execution_count": null,
   "metadata": {},
   "outputs": [],
   "source": []
  },
  {
   "cell_type": "code",
   "execution_count": null,
   "metadata": {},
   "outputs": [],
   "source": []
  }
 ],
 "metadata": {
  "kernelspec": {
   "display_name": "Python 3",
   "language": "python",
   "name": "python3"
  },
  "language_info": {
   "codemirror_mode": {
    "name": "ipython",
    "version": 3
   },
   "file_extension": ".py",
   "mimetype": "text/x-python",
   "name": "python",
   "nbconvert_exporter": "python",
   "pygments_lexer": "ipython3",
   "version": "3.6.1"
  }
 },
 "nbformat": 4,
 "nbformat_minor": 2
}
